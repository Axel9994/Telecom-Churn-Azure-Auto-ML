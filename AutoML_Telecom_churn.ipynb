{
  "cells": [
    {
      "cell_type": "markdown",
      "metadata": {
        "nteract": {
          "transient": {
            "deleting": false
          }
        }
      },
      "source": [
        "# Auto ML Telecom Churn"
      ]
    },
    {
      "cell_type": "code",
      "execution_count": 1,
      "metadata": {
        "gather": {
          "logged": 1676733650170
        },
        "jupyter": {
          "outputs_hidden": false,
          "source_hidden": false
        },
        "nteract": {
          "transient": {
            "deleting": false
          }
        }
      },
      "outputs": [],
      "source": [
        "import azureml.core\r\n",
        "from azureml.core import Workspace, Dataset\r\n",
        "\r\n",
        "ws = Workspace.from_config()"
      ]
    },
    {
      "cell_type": "code",
      "execution_count": 9,
      "metadata": {
        "gather": {
          "logged": 1676733967719
        },
        "jupyter": {
          "outputs_hidden": false,
          "source_hidden": false
        },
        "nteract": {
          "transient": {
            "deleting": false
          }
        }
      },
      "outputs": [
        {
          "name": "stdout",
          "output_type": "stream",
          "text": [
            "Validating arguments.\n",
            "Arguments validated.\n",
            "Successfully obtained datastore reference and path.\n",
            "Uploading file to managed-dataset/17bafadd-ed36-440d-86ac-a787f123d646/\n",
            "Successfully uploaded file to datastore.\n",
            "Creating and registering a new dataset.\n",
            "Successfully created and registered a new dataset.\n"
          ]
        }
      ],
      "source": [
        "import pandas as pd\r\n",
        "\r\n",
        "telcom_churn_data = pd.read_csv(\"telcom_customer_data.csv\")\r\n",
        "\r\n",
        "\r\n",
        "# The default datastore is a blob storage container where datasets are stored\r\n",
        "datastore = ws.get_default_datastore()\r\n",
        "\r\n",
        "# Register the dataset\r\n",
        "telecom_churn_ds = Dataset.Tabular.register_pandas_dataframe(\r\n",
        "        dataframe=telcom_churn_data, \r\n",
        "        name='telecom_churn_ds', \r\n",
        "        target=datastore\r\n",
        "    )\r\n"
      ]
    },
    {
      "cell_type": "markdown",
      "metadata": {
        "nteract": {
          "transient": {
            "deleting": false
          }
        }
      },
      "source": [
        "## Crear cluster de Inferencia"
      ]
    },
    {
      "cell_type": "code",
      "execution_count": 3,
      "metadata": {
        "gather": {
          "logged": 1676733657861
        },
        "jupyter": {
          "outputs_hidden": false,
          "source_hidden": false
        },
        "nteract": {
          "transient": {
            "deleting": false
          }
        }
      },
      "outputs": [
        {
          "name": "stdout",
          "output_type": "stream",
          "text": [
            "Found existing cluster, use it.\n"
          ]
        }
      ],
      "source": [
        "from azureml.core.compute import ComputeTarget, AmlCompute\r\n",
        "from azureml.core.compute_target import ComputeTargetException\r\n",
        "\r\n",
        "cluster_name = \"my-ml-cluster\"\r\n",
        "\r\n",
        "try:\r\n",
        "    # Check for existing compute target\r\n",
        "    training_cluster = ComputeTarget(workspace=ws, name=cluster_name)\r\n",
        "    print('Found existing cluster, use it.')\r\n",
        "except ComputeTargetException:\r\n",
        "    # If it doesn't already exist, create it\r\n",
        "    try:\r\n",
        "        compute_config = AmlCompute.provisioning_configuration(vm_size='STANDARD_DS11_V2', max_nodes=4)\r\n",
        "        training_cluster = ComputeTarget.create(ws, cluster_name, compute_config)\r\n",
        "        training_cluster.wait_for_completion(show_output=True)\r\n",
        "    except Exception as ex:\r\n",
        "        print(ex)"
      ]
    },
    {
      "cell_type": "markdown",
      "metadata": {
        "nteract": {
          "transient": {
            "deleting": false
          }
        }
      },
      "source": [
        "## Crear Configuración de Experimento Auto ML"
      ]
    },
    {
      "cell_type": "code",
      "execution_count": null,
      "metadata": {
        "jupyter": {
          "outputs_hidden": false,
          "source_hidden": false
        },
        "nteract": {
          "transient": {
            "deleting": false
          }
        }
      },
      "outputs": [],
      "source": [
        "!pip install --upgrade azureml-sdk[automl]"
      ]
    },
    {
      "cell_type": "code",
      "execution_count": 10,
      "metadata": {
        "gather": {
          "logged": 1676733977324
        },
        "jupyter": {
          "outputs_hidden": false,
          "source_hidden": false
        },
        "nteract": {
          "transient": {
            "deleting": false
          }
        }
      },
      "outputs": [],
      "source": [
        "from azureml.train.automl import AutoMLConfig\r\n",
        "\r\n",
        "automl_config = AutoMLConfig(name='Telecom Churn Clasificacion',\r\n",
        "                             task='classification',\r\n",
        "                             compute_target=training_cluster,\r\n",
        "                             training_data = telecom_churn_ds,\r\n",
        "                             label_column_name='churn',\r\n",
        "                             experiment_timeout_hours= 4,\r\n",
        "                             enable_early_stopping= True,\r\n",
        "                             n_cross_validations= 3,\r\n",
        "                             num_classes= 2,\r\n",
        "                             primary_metric = 'AUC_weighted',\r\n",
        "                             max_concurrent_iterations=4,\r\n",
        "                             featurization='auto'\r\n",
        "                             )"
      ]
    },
    {
      "cell_type": "markdown",
      "metadata": {
        "nteract": {
          "transient": {
            "deleting": false
          }
        }
      },
      "source": [
        "## Correr Experimento"
      ]
    },
    {
      "cell_type": "code",
      "execution_count": 11,
      "metadata": {
        "gather": {
          "logged": 1676736950465
        },
        "jupyter": {
          "outputs_hidden": false,
          "source_hidden": false
        },
        "nteract": {
          "transient": {
            "deleting": false
          }
        }
      },
      "outputs": [
        {
          "name": "stdout",
          "output_type": "stream",
          "text": [
            "Submitting remote run.\n"
          ]
        },
        {
          "data": {
            "text/html": "<table style=\"width:100%\"><tr><th>Experiment</th><th>Id</th><th>Type</th><th>Status</th><th>Details Page</th><th>Docs Page</th></tr><tr><td>Telecom-Churn-Clasificacion-Experimento</td><td>AutoML_1a81f24e-234a-4a0c-ab39-0c288de6304b</td><td>automl</td><td>NotStarted</td><td><a href=\"https://ml.azure.com/runs/AutoML_1a81f24e-234a-4a0c-ab39-0c288de6304b?wsid=/subscriptions/030feb6f-715f-420c-90a9-4d556309931c/resourcegroups/telecom_churn_azure/workspaces/telecom_churn_azure&amp;tid=81da4f59-2a5e-4a42-a27c-2cfd2a975e53\" target=\"_blank\" rel=\"noopener\">Link to Azure Machine Learning studio</a></td><td><a href=\"https://docs.microsoft.com/en-us/python/api/overview/azure/ml/intro?view=azure-ml-py\" target=\"_blank\" rel=\"noopener\">Link to Documentation</a></td></tr></table>",
            "text/plain": "<IPython.core.display.HTML object>"
          },
          "metadata": {},
          "output_type": "display_data"
        },
        {
          "data": {
            "text/html": "<table style=\"width:100%\"><tr><th>Experiment</th><th>Id</th><th>Type</th><th>Status</th><th>Details Page</th><th>Docs Page</th></tr><tr><td>Telecom-Churn-Clasificacion-Experimento</td><td>AutoML_1a81f24e-234a-4a0c-ab39-0c288de6304b</td><td>automl</td><td>NotStarted</td><td><a href=\"https://ml.azure.com/runs/AutoML_1a81f24e-234a-4a0c-ab39-0c288de6304b?wsid=/subscriptions/030feb6f-715f-420c-90a9-4d556309931c/resourcegroups/telecom_churn_azure/workspaces/telecom_churn_azure&amp;tid=81da4f59-2a5e-4a42-a27c-2cfd2a975e53\" target=\"_blank\" rel=\"noopener\">Link to Azure Machine Learning studio</a></td><td><a href=\"https://docs.microsoft.com/en-us/python/api/overview/azure/ml/intro?view=azure-ml-py\" target=\"_blank\" rel=\"noopener\">Link to Documentation</a></td></tr></table>",
            "text/plain": "<IPython.core.display.HTML object>"
          },
          "metadata": {},
          "output_type": "display_data"
        },
        {
          "name": "stdout",
          "output_type": "stream",
          "text": [
            "\n",
            "Current status: DatasetEvaluation. Gathering dataset statistics.\n",
            "Current status: FeaturesGeneration. Generating features for the dataset.\n",
            "Current status: DatasetFeaturization. Beginning to fit featurizers and featurize the dataset.\n",
            "Current status: DatasetCrossValidationSplit. Generating individually featurized CV splits.\n",
            "Current status: ModelSelection. Beginning model selection.\n",
            "\n",
            "********************************************************************************************\n",
            "DATA GUARDRAILS: \n",
            "\n",
            "TYPE:         Class balancing detection\n",
            "STATUS:       PASSED\n",
            "DESCRIPTION:  Your inputs were analyzed, and all classes are balanced in your training data.\n",
            "              Learn more about imbalanced data: https://aka.ms/AutomatedMLImbalancedData\n",
            "\n",
            "********************************************************************************************\n",
            "\n",
            "TYPE:         Missing feature values imputation\n",
            "STATUS:       DONE\n",
            "DESCRIPTION:  If the missing values are expected, let the run complete. Otherwise cancel the current run and use a script to customize the handling of missing feature values that may be more appropriate based on the data type and business requirement.\n",
            "              Learn more about missing value imputation: https://aka.ms/AutomatedMLFeaturization\n",
            "DETAILS:      \n",
            "+------------------------------+------------------------------+------------------------------+\n",
            "|Column name                   |Missing value count           |Imputation type               |\n",
            "+==============================+==============================+==============================+\n",
            "|rev_Mean                      |357                           |mean                          |\n",
            "|mou_Mean                      |357                           |mean                          |\n",
            "|totmrc_Mean                   |357                           |mean                          |\n",
            "|da_Mean                       |357                           |mean                          |\n",
            "|ovrmou_Mean                   |357                           |mean                          |\n",
            "|ovrrev_Mean                   |357                           |mean                          |\n",
            "|vceovr_Mean                   |357                           |mean                          |\n",
            "|datovr_Mean                   |357                           |mean                          |\n",
            "|roam_Mean                     |357                           |mean                          |\n",
            "|change_mou                    |891                           |mean                          |\n",
            "|change_rev                    |891                           |mean                          |\n",
            "|avg6mou                       |2839                          |mean                          |\n",
            "|avg6qty                       |2839                          |mean                          |\n",
            "|avg6rev                       |2839                          |mean                          |\n",
            "|hnd_price                     |847                           |mean                          |\n",
            "|phones                        |1                             |mean                          |\n",
            "|models                        |1                             |mean                          |\n",
            "|truck                         |1732                          |mean                          |\n",
            "|rv                            |1732                          |mean                          |\n",
            "|lor                           |30190                         |mean                          |\n",
            "|adults                        |23019                         |mean                          |\n",
            "|income                        |25436                         |mean                          |\n",
            "|numbcars                      |49366                         |mean                          |\n",
            "|forgntvl                      |1732                          |mean                          |\n",
            "|eqpdays                       |1                             |mean                          |\n",
            "+------------------------------+------------------------------+------------------------------+\n",
            "\n",
            "********************************************************************************************\n",
            "\n",
            "TYPE:         High cardinality feature detection\n",
            "STATUS:       PASSED\n",
            "DESCRIPTION:  Your inputs were analyzed, and no high cardinality features were detected.\n",
            "              Learn more about high cardinality feature handling: https://aka.ms/AutomatedMLFeaturization\n",
            "\n",
            "********************************************************************************************\n",
            "\n",
            "********************************************************************************************\n",
            "ITER: The iteration being evaluated.\n",
            "PIPELINE: A summary description of the pipeline being evaluated.\n",
            "DURATION: Time taken for the current iteration.\n",
            "METRIC: The result of computing score on the fitted pipeline.\n",
            "BEST: The best observed score thus far.\n",
            "********************************************************************************************\n",
            "\n",
            " ITER   PIPELINE                                       DURATION            METRIC      BEST\n",
            "    0   MaxAbsScaler LightGBM                          0:00:30             0.6927    0.6927\n",
            "    1   MaxAbsScaler XGBoostClassifier                 0:04:03             0.6788    0.6927\n",
            "    5   SparseNormalizer XGBoostClassifier             0:01:19             0.6701    0.6927\n",
            "    2   MaxAbsScaler ExtremeRandomTrees                0:00:34             0.6154    0.6927\n",
            "    3   MaxAbsScaler RandomForest                      0:00:18             0.6320    0.6927\n",
            "    4   StandardScalerWrapper LightGBM                 0:00:18             0.6525    0.6927\n",
            "    6   SparseNormalizer RandomForest                  0:02:03             0.6456    0.6927\n",
            "   10   SparseNormalizer LightGBM                      0:00:21             0.6498    0.6927\n",
            "   11   MaxAbsScaler ExtremeRandomTrees                0:01:49             0.6006    0.6927\n",
            "   12   StandardScalerWrapper XGBoostClassifier        0:01:26             0.6764    0.6927\n",
            "   13   StandardScalerWrapper ExtremeRandomTrees       0:00:24             0.6027    0.6927\n",
            "    7   StandardScalerWrapper XGBoostClassifier        0:00:50             0.6495    0.6927\n",
            "   15   MaxAbsScaler LightGBM                          0:00:31             0.6801    0.6927\n",
            "   16   MaxAbsScaler LogisticRegression                0:00:37             0.6267    0.6927\n",
            "    8   SparseNormalizer XGBoostClassifier             0:02:14             0.6633    0.6927\n",
            "    9   MaxAbsScaler RandomForest                      0:00:20             0.6149    0.6927\n",
            "   17   StandardScalerWrapper ExtremeRandomTrees       0:13:20             0.6333    0.6927\n",
            "   20   MaxAbsScaler LogisticRegression                0:00:44             0.6266    0.6927\n",
            "   21   StandardScalerWrapper XGBoostClassifier        0:01:21             0.6699    0.6927\n",
            "   18   StandardScalerWrapper XGBoostClassifier        0:00:55             0.6708    0.6927\n",
            "   23   MaxAbsScaler RandomForest                      0:00:43             0.6351    0.6927\n",
            "   19   MaxAbsScaler ExtremeRandomTrees                0:00:54             0.6034    0.6927\n",
            "   24   SparseNormalizer XGBoostClassifier             0:01:34             0.6723    0.6927\n",
            "   22   StandardScalerWrapper XGBoostClassifier        0:03:20             0.6825    0.6927\n",
            "   25   MaxAbsScaler LightGBM                          0:01:17             0.6904    0.6927\n",
            "   26   StandardScalerWrapper LightGBM                 0:00:41             0.6699    0.6927\n",
            "   27   SparseNormalizer LightGBM                      0:00:35             0.6671    0.6927\n",
            "   14   StandardScalerWrapper RandomForest             0:21:03             0.6654    0.6927\n",
            "   28   MaxAbsScaler LightGBM                          0:00:41             0.6640    0.6927\n",
            "   29   MaxAbsScaler LogisticRegression                0:01:01             0.6303    0.6927\n",
            "   30   StandardScalerWrapper LightGBM                 0:00:41             0.6749    0.6927\n",
            "   31   MaxAbsScaler RandomForest                      0:00:50             0.6153    0.6927\n",
            "   33   StandardScalerWrapper XGBoostClassifier        0:01:49             0.6628    0.6927\n",
            "   32   StandardScalerWrapper XGBoostClassifier        0:02:23                nan    0.6927\n",
            "   34   StandardScalerWrapper XGBoostClassifier        0:00:58                nan    0.6927\n",
            "   35                                                  0:00:01                nan    0.6927\n",
            "   36    VotingEnsemble                                0:02:40             0.6975    0.6975\n",
            "   37    StackEnsemble                                 0:02:47             0.6975    0.6975\n"
          ]
        },
        {
          "data": {
            "text/plain": "{'runId': 'AutoML_1a81f24e-234a-4a0c-ab39-0c288de6304b',\n 'target': 'my-ml-cluster',\n 'status': 'Completed',\n 'startTimeUtc': '2023-02-18T15:26:35.509684Z',\n 'endTimeUtc': '2023-02-18T16:15:33.939297Z',\n 'services': {},\n 'warnings': [{'source': 'JasmineService',\n   'message': 'No scores improved over last 10 iterations, so experiment stopped early. This early stopping behavior can be disabled by setting enable_early_stopping = False in AutoMLConfig for notebook/python SDK runs.'}],\n 'properties': {'num_iterations': '1000',\n  'training_type': 'TrainFull',\n  'acquisition_function': 'EI',\n  'primary_metric': 'AUC_weighted',\n  'train_split': '0',\n  'acquisition_parameter': '0',\n  'num_cross_validation': '3',\n  'target': 'my-ml-cluster',\n  'AMLSettingsJsonString': '{\"path\":null,\"name\":\"Telecom Churn Clasificacion\",\"subscription_id\":\"030feb6f-715f-420c-90a9-4d556309931c\",\"resource_group\":\"telecom_churn_azure\",\"workspace_name\":\"telecom_churn_azure\",\"region\":\"southcentralus\",\"compute_target\":\"my-ml-cluster\",\"spark_service\":null,\"azure_service\":\"remote\",\"many_models\":false,\"pipeline_fetch_max_batch_size\":1,\"enable_batch_run\":true,\"enable_parallel_run\":false,\"num_procs\":null,\"enable_run_restructure\":false,\"start_auxiliary_runs_before_parent_complete\":false,\"enable_code_generation\":true,\"iterations\":1000,\"primary_metric\":\"AUC_weighted\",\"task_type\":\"classification\",\"positive_label\":null,\"data_script\":null,\"test_size\":0.0,\"test_include_predictions_only\":false,\"validation_size\":0.0,\"n_cross_validations\":3,\"y_min\":null,\"y_max\":null,\"num_classes\":null,\"featurization\":\"auto\",\"_ignore_package_version_incompatibilities\":false,\"is_timeseries\":false,\"max_cores_per_iteration\":1,\"max_concurrent_iterations\":4,\"iteration_timeout_minutes\":null,\"mem_in_mb\":null,\"enforce_time_on_windows\":false,\"experiment_timeout_minutes\":240,\"experiment_exit_score\":null,\"partition_column_names\":null,\"whitelist_models\":null,\"blacklist_algos\":[\"TensorFlowLinearClassifier\",\"TensorFlowDNN\"],\"supported_models\":[\"MultinomialNaiveBayes\",\"KNN\",\"RandomForest\",\"AveragedPerceptronClassifier\",\"TensorFlowDNN\",\"SVM\",\"LinearSVM\",\"XGBoostClassifier\",\"TensorFlowLinearClassifier\",\"BernoulliNaiveBayes\",\"SGD\",\"GradientBoosting\",\"LogisticRegression\",\"TabnetClassifier\",\"DecisionTree\",\"LightGBM\",\"ExtremeRandomTrees\"],\"private_models\":[],\"auto_blacklist\":true,\"blacklist_samples_reached\":false,\"exclude_nan_labels\":true,\"verbosity\":20,\"_debug_log\":\"azureml_automl.log\",\"show_warnings\":false,\"model_explainability\":true,\"service_url\":null,\"sdk_url\":null,\"sdk_packages\":null,\"enable_onnx_compatible_models\":false,\"enable_split_onnx_featurizer_estimator_models\":false,\"vm_type\":\"STANDARD_DS11_V2\",\"telemetry_verbosity\":20,\"send_telemetry\":true,\"enable_dnn\":false,\"scenario\":\"AutoML\",\"environment_label\":null,\"save_mlflow\":false,\"enable_categorical_indicators\":false,\"force_text_dnn\":false,\"enable_feature_sweeping\":true,\"enable_early_stopping\":true,\"early_stopping_n_iters\":10,\"arguments\":null,\"dataset_id\":\"10feb94d-5b0f-4a95-a884-79782e381fd8\",\"hyperdrive_config\":null,\"validation_dataset_id\":null,\"run_source\":null,\"metrics\":null,\"enable_metric_confidence\":false,\"enable_ensembling\":true,\"enable_stack_ensembling\":true,\"ensemble_iterations\":15,\"enable_tf\":false,\"enable_subsampling\":null,\"subsample_seed\":null,\"enable_nimbusml\":false,\"enable_streaming\":false,\"force_streaming\":false,\"track_child_runs\":true,\"n_best_runs\":1,\"allowed_private_models\":[],\"label_column_name\":\"churn\",\"weight_column_name\":null,\"cv_split_column_names\":null,\"enable_local_managed\":false,\"_local_managed_run_id\":null,\"cost_mode\":1,\"lag_length\":0,\"metric_operation\":\"maximize\",\"preprocess\":true}',\n  'DataPrepJsonString': '{\\\\\"training_data\\\\\": {\\\\\"datasetId\\\\\": \\\\\"10feb94d-5b0f-4a95-a884-79782e381fd8\\\\\"}, \\\\\"datasets\\\\\": 0}',\n  'EnableSubsampling': None,\n  'runTemplate': 'AutoML',\n  'azureml.runsource': 'automl',\n  'display_task_type': 'classification',\n  'dependencies_versions': '{\"azureml-widgets\": \"1.49.0\", \"azureml-training-tabular\": \"1.49.0\", \"azureml-train\": \"1.48.0\", \"azureml-train-restclients-hyperdrive\": \"1.49.0\", \"azureml-train-core\": \"1.49.0\", \"azureml-train-automl\": \"1.49.0\", \"azureml-train-automl-runtime\": \"1.49.0\", \"azureml-train-automl-client\": \"1.49.0\", \"azureml-tensorboard\": \"1.48.0\", \"azureml-telemetry\": \"1.49.0\", \"azureml-sdk\": \"1.49.0\", \"azureml-samples\": \"0+unknown\", \"azureml-responsibleai\": \"1.48.0\", \"azureml-pipeline\": \"1.49.0\", \"azureml-pipeline-steps\": \"1.49.0\", \"azureml-pipeline-core\": \"1.49.0\", \"azureml-opendatasets\": \"1.48.0\", \"azureml-mlflow\": \"1.49.0\", \"azureml-interpret\": \"1.49.0\", \"azureml-inference-server-http\": \"0.7.7\", \"azureml-explain-model\": \"1.49.0\", \"azureml-defaults\": \"1.48.0\", \"azureml-dataset-runtime\": \"1.49.0\", \"azureml-dataprep\": \"4.9.1\", \"azureml-dataprep-rslex\": \"2.16.2\", \"azureml-dataprep-native\": \"38.0.0\", \"azureml-datadrift\": \"1.48.0\", \"azureml-core\": \"1.49.0\", \"azureml-contrib-services\": \"1.49.0\", \"azureml-contrib-server\": \"1.49.0\", \"azureml-contrib-reinforcementlearning\": \"1.48.0\", \"azureml-contrib-pipeline-steps\": \"1.49.0\", \"azureml-contrib-notebook\": \"1.49.0\", \"azureml-contrib-fairness\": \"1.48.0\", \"azureml-contrib-dataset\": \"1.48.0\", \"azureml-contrib-automl-pipeline-steps\": \"1.48.0\", \"azureml-cli-common\": \"1.48.0\", \"azureml-automl-runtime\": \"1.49.0\", \"azureml-automl-dnn-nlp\": \"1.48.0\", \"azureml-automl-core\": \"1.49.0\", \"azureml-accel-models\": \"1.48.0\"}',\n  '_aml_system_scenario_identification': 'Remote.Parent',\n  'ClientType': 'SDK',\n  'environment_cpu_name': 'AzureML-AutoML',\n  'environment_cpu_label': 'prod',\n  'environment_gpu_name': 'AzureML-AutoML-GPU',\n  'environment_gpu_label': 'prod',\n  'root_attribution': 'automl',\n  'attribution': 'AutoML',\n  'Orchestrator': 'AutoML',\n  'CancelUri': 'https://southcentralus.api.azureml.ms/jasmine/v1.0/subscriptions/030feb6f-715f-420c-90a9-4d556309931c/resourceGroups/telecom_churn_azure/providers/Microsoft.MachineLearningServices/workspaces/telecom_churn_azure/experimentids/899eee0f-3fd9-4c0d-a2f7-e5a0735c7098/cancel/AutoML_1a81f24e-234a-4a0c-ab39-0c288de6304b',\n  'ClientSdkVersion': '1.48.0.post2',\n  'snapshotId': '00000000-0000-0000-0000-000000000000',\n  'SetupRunId': 'AutoML_1a81f24e-234a-4a0c-ab39-0c288de6304b_setup',\n  'SetupRunContainerId': 'dcid.AutoML_1a81f24e-234a-4a0c-ab39-0c288de6304b_setup',\n  'FeaturizationRunJsonPath': 'featurizer_container.json',\n  'FeaturizationRunId': 'AutoML_1a81f24e-234a-4a0c-ab39-0c288de6304b_featurize',\n  'ProblemInfoJsonString': '{\"dataset_num_categorical\": 0, \"is_sparse\": true, \"subsampling\": false, \"has_extra_col\": true, \"dataset_classes\": 2, \"dataset_features\": 283, \"dataset_samples\": 100000, \"single_frequency_class_detected\": false}',\n  'ModelExplainRunId': 'AutoML_1a81f24e-234a-4a0c-ab39-0c288de6304b_ModelExplain'},\n 'inputDatasets': [{'dataset': {'id': '10feb94d-5b0f-4a95-a884-79782e381fd8'}, 'consumptionDetails': {'type': 'RunInput', 'inputName': 'training_data', 'mechanism': 'Direct'}}],\n 'outputDatasets': [],\n 'logFiles': {},\n 'submittedBy': 'axel aleman'}"
          },
          "execution_count": 11,
          "metadata": {},
          "output_type": "execute_result"
        }
      ],
      "source": [
        "from azureml.core.experiment import Experiment\r\n",
        "\r\n",
        "automl_experiment = Experiment(ws, 'Telecom-Churn-Clasificacion-Experimento')\r\n",
        "automl_run = automl_experiment.submit(automl_config)\r\n",
        "automl_run.wait_for_completion(show_output=True)"
      ]
    },
    {
      "cell_type": "markdown",
      "metadata": {
        "nteract": {
          "transient": {
            "deleting": false
          }
        }
      },
      "source": [
        "## Obtener Mejor Modelo"
      ]
    },
    {
      "cell_type": "code",
      "execution_count": 12,
      "metadata": {
        "gather": {
          "logged": 1676737163106
        },
        "jupyter": {
          "outputs_hidden": false,
          "source_hidden": false
        },
        "nteract": {
          "transient": {
            "deleting": false
          }
        }
      },
      "outputs": [
        {
          "name": "stdout",
          "output_type": "stream",
          "text": [
            "Run(Experiment: Telecom-Churn-Clasificacion-Experimento,\n",
            "Id: AutoML_1a81f24e-234a-4a0c-ab39-0c288de6304b_37,\n",
            "Type: azureml.scriptrun,\n",
            "Status: Completed)\n",
            "\n",
            "Best Run Metrics:\n",
            "AUC_micro 0.697560671643788\n",
            "recall_score_macro 0.6429883410762379\n",
            "precision_score_macro 0.6430264691638545\n",
            "average_precision_score_weighted 0.6897595691066308\n",
            "AUC_weighted 0.6974576102619424\n",
            "precision_score_weighted 0.6430938587661021\n",
            "average_precision_score_macro 0.6896895390676617\n",
            "log_loss 0.6295686587346672\n",
            "recall_score_micro 0.6429099681289007\n",
            "precision_score_micro 0.6429099681289007\n",
            "weighted_accuracy 0.6428316240578211\n",
            "balanced_accuracy 0.6429883410762379\n",
            "f1_score_micro 0.6429099681289007\n",
            "matthews_correlation 0.2860148055624767\n",
            "accuracy 0.6429099681289007\n",
            "f1_score_weighted 0.6428857209438844\n",
            "AUC_macro 0.6974576102619424\n",
            "norm_macro_recall 0.28597668215247585\n",
            "f1_score_macro 0.6428912249989417\n",
            "average_precision_score_micro 0.6899481238798982\n",
            "recall_score_weighted 0.6429099681289007\n",
            "confusion_matrix aml://artifactId/ExperimentRun/dcid.AutoML_1a81f24e-234a-4a0c-ab39-0c288de6304b_37/confusion_matrix\n",
            "accuracy_table aml://artifactId/ExperimentRun/dcid.AutoML_1a81f24e-234a-4a0c-ab39-0c288de6304b_37/accuracy_table\n"
          ]
        }
      ],
      "source": [
        "best_run, fitted_model = automl_run.get_output()\r\n",
        "print(best_run)\r\n",
        "\r\n",
        "print('\\nBest Run Metrics:')\r\n",
        "best_run_metrics = best_run.get_metrics()\r\n",
        "for metric_name in best_run_metrics:\r\n",
        "    metric = best_run_metrics[metric_name]\r\n",
        "    print(metric_name, metric)"
      ]
    },
    {
      "cell_type": "markdown",
      "metadata": {
        "nteract": {
          "transient": {
            "deleting": false
          }
        }
      },
      "source": [
        "## Registrar Mejor Modelo"
      ]
    },
    {
      "cell_type": "code",
      "execution_count": 13,
      "metadata": {
        "gather": {
          "logged": 1676737234641
        },
        "jupyter": {
          "outputs_hidden": false,
          "source_hidden": false
        },
        "nteract": {
          "transient": {
            "deleting": false
          }
        }
      },
      "outputs": [
        {
          "data": {
            "text/plain": "Model(workspace=Workspace.create(name='telecom_churn_azure', subscription_id='030feb6f-715f-420c-90a9-4d556309931c', resource_group='telecom_churn_azure'), name=automl_wine_classification_model, id=automl_wine_classification_model:1, version=1, tags={'Training context': 'Auto ML'}, properties={'AUC': '0.6974576102619424', 'Accuracy': '0.6429099681289007'})"
          },
          "execution_count": 13,
          "metadata": {},
          "output_type": "execute_result"
        }
      ],
      "source": [
        "best_run.register_model(model_path='outputs/model.pkl', model_name='automl_telecom_churn',\r\n",
        "                        tags={'Training context':'Auto ML'},\r\n",
        "                        properties={'AUC': best_run_metrics['AUC_weighted'], 'Accuracy': best_run_metrics['accuracy']})\r\n",
        "\r\n"
      ]
    },
    {
      "cell_type": "markdown",
      "metadata": {
        "nteract": {
          "transient": {
            "deleting": false
          }
        }
      },
      "source": [
        "## Eliminar Cluster de Inferencia"
      ]
    },
    {
      "cell_type": "code",
      "execution_count": 14,
      "metadata": {
        "gather": {
          "logged": 1676737241647
        },
        "jupyter": {
          "outputs_hidden": false,
          "source_hidden": false
        },
        "nteract": {
          "transient": {
            "deleting": false
          }
        }
      },
      "outputs": [],
      "source": [
        "training_cluster.delete()"
      ]
    }
  ],
  "metadata": {
    "kernel_info": {
      "name": "python38-azureml"
    },
    "kernelspec": {
      "display_name": "Python 3.8 - AzureML",
      "language": "python",
      "name": "python38-azureml"
    },
    "language_info": {
      "codemirror_mode": {
        "name": "ipython",
        "version": 3
      },
      "file_extension": ".py",
      "mimetype": "text/x-python",
      "name": "python",
      "nbconvert_exporter": "python",
      "pygments_lexer": "ipython3",
      "version": "3.8.10"
    },
    "microsoft": {
      "host": {
        "AzureML": {
          "notebookHasBeenCompleted": true
        }
      },
      "ms_spell_check": {
        "ms_spell_check_language": "es"
      }
    },
    "nteract": {
      "version": "nteract-front-end@1.0.0"
    }
  },
  "nbformat": 4,
  "nbformat_minor": 2
}